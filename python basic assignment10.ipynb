{
 "cells": [
  {
   "cell_type": "markdown",
   "id": "3f1640be",
   "metadata": {},
   "source": [
    "1. How do you distinguish between shutil.copy() and shutil.copytree()?"
   ]
  },
  {
   "cell_type": "code",
   "execution_count": null,
   "id": "a70eef28",
   "metadata": {},
   "outputs": [],
   "source": [
    "=>shutil.copy() method is used to copy the contents of a file from one file to another file/folder.\n",
    "shutil.copytree() function is used to copy the entire contents of a folder to other folder."
   ]
  },
  {
   "cell_type": "markdown",
   "id": "d6ffe9fd",
   "metadata": {},
   "source": [
    "2. What function is used to rename files??"
   ]
  },
  {
   "cell_type": "code",
   "execution_count": null,
   "id": "cce48c43",
   "metadata": {},
   "outputs": [],
   "source": [
    "=>os.rename() function is used to rename files."
   ]
  },
  {
   "cell_type": "markdown",
   "id": "76e7368f",
   "metadata": {},
   "source": [
    "4.ZipFile objects have a close() method just like File objects’ close() method. What ZipFile\n",
    "method is equivalent to File objects’ open() method?"
   ]
  },
  {
   "cell_type": "code",
   "execution_count": null,
   "id": "44d6d441",
   "metadata": {},
   "outputs": [],
   "source": [
    "=>zipfile.ZipFile('filename', mode = 'r')"
   ]
  }
 ],
 "metadata": {
  "kernelspec": {
   "display_name": "Python 3",
   "language": "python",
   "name": "python3"
  },
  "language_info": {
   "codemirror_mode": {
    "name": "ipython",
    "version": 3
   },
   "file_extension": ".py",
   "mimetype": "text/x-python",
   "name": "python",
   "nbconvert_exporter": "python",
   "pygments_lexer": "ipython3",
   "version": "3.8.8"
  }
 },
 "nbformat": 4,
 "nbformat_minor": 5
}
